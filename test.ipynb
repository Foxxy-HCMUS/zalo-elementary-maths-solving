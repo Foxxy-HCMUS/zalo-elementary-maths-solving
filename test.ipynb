{
 "cells": [
  {
   "cell_type": "code",
   "execution_count": 12,
   "metadata": {},
   "outputs": [
    {
     "name": "stdout",
     "output_type": "stream",
     "text": [
      "Question: In the numbers: 825, 627, 958, 609; the largest number is:\n",
      "A. Eighty-five.\n",
      "B. 627 inch\n",
      "C. 958 people\n",
      "D. 609, 000\n",
      "Explanation: The numbers: 825, 627, 958, 609 are all three - digit numbers, so we compare them from left to right. The hundreds place: 6 8 9 So the largest number is: 958.\n",
      "Answer: C. 958\n",
      "Question: Every store has 2 150 liters of oil. After replenishing, the volume of oil in the store is increased by 4 times. The volume of oil stores that have been replenished is:\n",
      "A. 3 250 l\n",
      "B. 6,450 liters\n",
      "C. 3 350 l\n",
      "D. 6,500 liters\n",
      "Explanation: The store has a liter of oil is: 2 150 ${\\times}$ 4 = 8 600 (l) The store oil volume requested is: 8 600 – 2 150 = 6 450 (l) Answer: 6 450 l\n",
      "Answer: B. 6 450 l\n",
      "Question: Mother has 8 cakes, divided by 2 brothers. Each person has the number of cakes, divided by 2 brothers. Each person has the number of cakes is:\n",
      "A. 2 Pies\n",
      "B. 3 Pies\n",
      "C. 4 Pies\n",
      "D. 5 Pies\n",
      "Explanation: It's not like we're going to have to do this.\n",
      "Answer: C. 4 cái bánh\n"
     ]
    },
    {
     "ename": "",
     "evalue": "",
     "output_type": "error",
     "traceback": [
      "\u001b[1;31mThe Kernel crashed while executing code in the the current cell or a previous cell. Please review the code in the cell(s) to identify a possible cause of the failure. Click <a href='https://aka.ms/vscodeJupyterKernelCrash'>here</a> for more info. View Jupyter <a href='command:jupyter.viewOutput'>log</a> for further details."
     ]
    }
   ],
   "source": [
    "from datasets import Dataset, load_metric, load_from_disk\n",
    "eng_dataset = load_from_disk(\"processed.hf\")\n",
    "\n",
    "\n",
    "def transformer_to_dialog(example):\n",
    "    question = example[\"question\"]\n",
    "    choices = [example[i] for i in \"ABCD\"]\n",
    "    # Prepare multiple-choice input\n",
    "    choices = \"\\n\".join([f\"{chr(65+i)}. {choice}\" for i, choice in enumerate(choices)])\n",
    "    answer = example[\"answer\"]\n",
    "    explanation = example[\"explanation\"] if example[\"explanation\"] not in [\"\", None] else None\n",
    "    dialog = [\n",
    "        {\"role\": \"system\", \"content\": \"\"\"### System: You are a math expert assistant. Your mission is to help users understand \\\n",
    "and solve elementary math problems: You must strictly follow the multi choice question and the choices \\\n",
    "from users, First you need to think step by step and then give the answer choice, which is A, B, C or D \\\n",
    "corresponding with the choices.\"\"\"}\n",
    "    ]\n",
    "    if explanation:\n",
    "        dialog += [\n",
    "        {\"role\": \"user\", \"content\": f\"Question: {question}\\n{choices}\"},\n",
    "        {\"role\": \"assistant\", \"content\": f\"Explanation: {explanation}\\nAnswer: {answer}\"}\n",
    "        ]\n",
    "    else:\n",
    "        dialog += [\n",
    "        {\"role\": \"user\", \"content\": f\"Question: {question}\\nWhich of the following is the correct choice: {choices}\"},\n",
    "        {\"role\": \"assistant\", \"content\": f\"Answer: {answer}\"}\n",
    "        ]\n",
    "\n",
    "    return dialog\n",
    "\n",
    "def get_shots(examples=[dict(zip(eng_dataset[\"train\"][:20],t)) for t in zip(*eng_dataset[\"train\"][:20].values())], n_shots=3):\n",
    "    shots = [transformer_to_dialog(example) for example in examples][:n_shots]\n",
    "    new_msg = []\n",
    "    if n_shots > 0:\n",
    "        for shot in shots:\n",
    "            for msg in shot:\n",
    "                if msg[\"role\"].upper() in [\"USER\", \"ASSISTANT\"]:\n",
    "                    new_msg.append(msg[\"content\"])\n",
    "    new_msg = \"\\n\".join(new_msg)\n",
    "    return new_msg      \n",
    "\n",
    "print(get_shots())\n"
   ]
  },
  {
   "cell_type": "code",
   "execution_count": 3,
   "metadata": {},
   "outputs": [
    {
     "data": {
      "text/plain": [
       "['C. 9000 đồng']"
      ]
     },
     "execution_count": 3,
     "metadata": {},
     "output_type": "execute_result"
    }
   ],
   "source": [
    "\"C. 9000 đồng\".split(\"\\n\")"
   ]
  },
  {
   "cell_type": "code",
   "execution_count": 2,
   "metadata": {},
   "outputs": [
    {
     "ename": "SyntaxError",
     "evalue": "unexpected character after line continuation character (3345935461.py, line 1)",
     "output_type": "error",
     "traceback": [
      "\u001b[0;36m  Cell \u001b[0;32mIn[2], line 1\u001b[0;36m\u001b[0m\n\u001b[0;31m    \\n\u001b[0m\n\u001b[0m     ^\u001b[0m\n\u001b[0;31mSyntaxError\u001b[0m\u001b[0;31m:\u001b[0m unexpected character after line continuation character\n"
     ]
    }
   ],
   "source": [
    "\\n"
   ]
  }
 ],
 "metadata": {
  "kernelspec": {
   "display_name": "zalo",
   "language": "python",
   "name": "python3"
  },
  "language_info": {
   "codemirror_mode": {
    "name": "ipython",
    "version": 3
   },
   "file_extension": ".py",
   "mimetype": "text/x-python",
   "name": "python",
   "nbconvert_exporter": "python",
   "pygments_lexer": "ipython3",
   "version": "3.9.18"
  }
 },
 "nbformat": 4,
 "nbformat_minor": 2
}
